{
  "nbformat": 4,
  "nbformat_minor": 0,
  "metadata": {
    "colab": {
      "provenance": []
    },
    "kernelspec": {
      "name": "python3",
      "display_name": "Python 3"
    },
    "language_info": {
      "name": "python"
    }
  },
  "cells": [
    {
      "cell_type": "code",
      "execution_count": null,
      "metadata": {
        "colab": {
          "base_uri": "https://localhost:8080/"
        },
        "id": "CKBvQtZ43W2i",
        "outputId": "399854ae-99b4-4bfb-a6a4-81943ea292f5"
      },
      "outputs": [
        {
          "output_type": "stream",
          "name": "stdout",
          "text": [
            "--2023-03-16 16:26:44--  https://www-users.cse.umn.edu/~sjguy/data/WhiteWine.txt\n",
            "Resolving www-users.cse.umn.edu (www-users.cse.umn.edu)... 134.84.66.195\n",
            "Connecting to www-users.cse.umn.edu (www-users.cse.umn.edu)|134.84.66.195|:443... connected.\n",
            "HTTP request sent, awaiting response... 200 OK\n",
            "Length: 264426 (258K) [text/plain]\n",
            "Saving to: ‘WhiteWine.txt’\n",
            "\n",
            "WhiteWine.txt       100%[===================>] 258.23K   299KB/s    in 0.9s    \n",
            "\n",
            "2023-03-16 16:26:45 (299 KB/s) - ‘WhiteWine.txt’ saved [264426/264426]\n",
            "\n"
          ]
        }
      ],
      "source": [
        "!wget \"https://www-users.cse.umn.edu/~sjguy/data/WhiteWine.txt\"\n",
        "import numpy as np\n",
        "import pandas as pd\n",
        "import torch\n",
        "import matplotlib\n",
        "import seaborn as sns"
      ]
    },
    {
      "cell_type": "code",
      "source": [
        "df = pd.read_csv(\"WhiteWine.txt\")\n",
        "df"
      ],
      "metadata": {
        "colab": {
          "base_uri": "https://localhost:8080/",
          "height": 485
        },
        "id": "gdHuL4jx6I5v",
        "outputId": "7326ed14-96ef-454f-d4de-895f28401c26"
      },
      "execution_count": null,
      "outputs": [
        {
          "output_type": "execute_result",
          "data": {
            "text/plain": [
              "      fixed acidity  volatile acidity  citric acid  residual sugar  chlorides  \\\n",
              "0               7.0              0.27         0.36            20.7      0.045   \n",
              "1               6.3              0.30         0.34             1.6      0.049   \n",
              "2               8.1              0.28         0.40             6.9      0.050   \n",
              "3               7.2              0.23         0.32             8.5      0.058   \n",
              "4               7.2              0.23         0.32             8.5      0.058   \n",
              "...             ...               ...          ...             ...        ...   \n",
              "4893            6.2              0.21         0.29             1.6      0.039   \n",
              "4894            6.6              0.32         0.36             8.0      0.047   \n",
              "4895            6.5              0.24         0.19             1.2      0.041   \n",
              "4896            5.5              0.29         0.30             1.1      0.022   \n",
              "4897            6.0              0.21         0.38             0.8      0.020   \n",
              "\n",
              "      free sulfur dioxide  total sulfur dioxide  density    pH  sulphates  \\\n",
              "0                    45.0                 170.0  1.00100  3.00       0.45   \n",
              "1                    14.0                 132.0  0.99400  3.30       0.49   \n",
              "2                    30.0                  97.0  0.99510  3.26       0.44   \n",
              "3                    47.0                 186.0  0.99560  3.19       0.40   \n",
              "4                    47.0                 186.0  0.99560  3.19       0.40   \n",
              "...                   ...                   ...      ...   ...        ...   \n",
              "4893                 24.0                  92.0  0.99114  3.27       0.50   \n",
              "4894                 57.0                 168.0  0.99490  3.15       0.46   \n",
              "4895                 30.0                 111.0  0.99254  2.99       0.46   \n",
              "4896                 20.0                 110.0  0.98869  3.34       0.38   \n",
              "4897                 22.0                  98.0  0.98941  3.26       0.32   \n",
              "\n",
              "      alcohol  quality  \n",
              "0         8.8        6  \n",
              "1         9.5        6  \n",
              "2        10.1        6  \n",
              "3         9.9        6  \n",
              "4         9.9        6  \n",
              "...       ...      ...  \n",
              "4893     11.2        6  \n",
              "4894      9.6        5  \n",
              "4895      9.4        6  \n",
              "4896     12.8        7  \n",
              "4897     11.8        6  \n",
              "\n",
              "[4898 rows x 12 columns]"
            ],
            "text/html": [
              "\n",
              "  <div id=\"df-008000f6-1465-4b26-b958-c0313b636bcd\">\n",
              "    <div class=\"colab-df-container\">\n",
              "      <div>\n",
              "<style scoped>\n",
              "    .dataframe tbody tr th:only-of-type {\n",
              "        vertical-align: middle;\n",
              "    }\n",
              "\n",
              "    .dataframe tbody tr th {\n",
              "        vertical-align: top;\n",
              "    }\n",
              "\n",
              "    .dataframe thead th {\n",
              "        text-align: right;\n",
              "    }\n",
              "</style>\n",
              "<table border=\"1\" class=\"dataframe\">\n",
              "  <thead>\n",
              "    <tr style=\"text-align: right;\">\n",
              "      <th></th>\n",
              "      <th>fixed acidity</th>\n",
              "      <th>volatile acidity</th>\n",
              "      <th>citric acid</th>\n",
              "      <th>residual sugar</th>\n",
              "      <th>chlorides</th>\n",
              "      <th>free sulfur dioxide</th>\n",
              "      <th>total sulfur dioxide</th>\n",
              "      <th>density</th>\n",
              "      <th>pH</th>\n",
              "      <th>sulphates</th>\n",
              "      <th>alcohol</th>\n",
              "      <th>quality</th>\n",
              "    </tr>\n",
              "  </thead>\n",
              "  <tbody>\n",
              "    <tr>\n",
              "      <th>0</th>\n",
              "      <td>7.0</td>\n",
              "      <td>0.27</td>\n",
              "      <td>0.36</td>\n",
              "      <td>20.7</td>\n",
              "      <td>0.045</td>\n",
              "      <td>45.0</td>\n",
              "      <td>170.0</td>\n",
              "      <td>1.00100</td>\n",
              "      <td>3.00</td>\n",
              "      <td>0.45</td>\n",
              "      <td>8.8</td>\n",
              "      <td>6</td>\n",
              "    </tr>\n",
              "    <tr>\n",
              "      <th>1</th>\n",
              "      <td>6.3</td>\n",
              "      <td>0.30</td>\n",
              "      <td>0.34</td>\n",
              "      <td>1.6</td>\n",
              "      <td>0.049</td>\n",
              "      <td>14.0</td>\n",
              "      <td>132.0</td>\n",
              "      <td>0.99400</td>\n",
              "      <td>3.30</td>\n",
              "      <td>0.49</td>\n",
              "      <td>9.5</td>\n",
              "      <td>6</td>\n",
              "    </tr>\n",
              "    <tr>\n",
              "      <th>2</th>\n",
              "      <td>8.1</td>\n",
              "      <td>0.28</td>\n",
              "      <td>0.40</td>\n",
              "      <td>6.9</td>\n",
              "      <td>0.050</td>\n",
              "      <td>30.0</td>\n",
              "      <td>97.0</td>\n",
              "      <td>0.99510</td>\n",
              "      <td>3.26</td>\n",
              "      <td>0.44</td>\n",
              "      <td>10.1</td>\n",
              "      <td>6</td>\n",
              "    </tr>\n",
              "    <tr>\n",
              "      <th>3</th>\n",
              "      <td>7.2</td>\n",
              "      <td>0.23</td>\n",
              "      <td>0.32</td>\n",
              "      <td>8.5</td>\n",
              "      <td>0.058</td>\n",
              "      <td>47.0</td>\n",
              "      <td>186.0</td>\n",
              "      <td>0.99560</td>\n",
              "      <td>3.19</td>\n",
              "      <td>0.40</td>\n",
              "      <td>9.9</td>\n",
              "      <td>6</td>\n",
              "    </tr>\n",
              "    <tr>\n",
              "      <th>4</th>\n",
              "      <td>7.2</td>\n",
              "      <td>0.23</td>\n",
              "      <td>0.32</td>\n",
              "      <td>8.5</td>\n",
              "      <td>0.058</td>\n",
              "      <td>47.0</td>\n",
              "      <td>186.0</td>\n",
              "      <td>0.99560</td>\n",
              "      <td>3.19</td>\n",
              "      <td>0.40</td>\n",
              "      <td>9.9</td>\n",
              "      <td>6</td>\n",
              "    </tr>\n",
              "    <tr>\n",
              "      <th>...</th>\n",
              "      <td>...</td>\n",
              "      <td>...</td>\n",
              "      <td>...</td>\n",
              "      <td>...</td>\n",
              "      <td>...</td>\n",
              "      <td>...</td>\n",
              "      <td>...</td>\n",
              "      <td>...</td>\n",
              "      <td>...</td>\n",
              "      <td>...</td>\n",
              "      <td>...</td>\n",
              "      <td>...</td>\n",
              "    </tr>\n",
              "    <tr>\n",
              "      <th>4893</th>\n",
              "      <td>6.2</td>\n",
              "      <td>0.21</td>\n",
              "      <td>0.29</td>\n",
              "      <td>1.6</td>\n",
              "      <td>0.039</td>\n",
              "      <td>24.0</td>\n",
              "      <td>92.0</td>\n",
              "      <td>0.99114</td>\n",
              "      <td>3.27</td>\n",
              "      <td>0.50</td>\n",
              "      <td>11.2</td>\n",
              "      <td>6</td>\n",
              "    </tr>\n",
              "    <tr>\n",
              "      <th>4894</th>\n",
              "      <td>6.6</td>\n",
              "      <td>0.32</td>\n",
              "      <td>0.36</td>\n",
              "      <td>8.0</td>\n",
              "      <td>0.047</td>\n",
              "      <td>57.0</td>\n",
              "      <td>168.0</td>\n",
              "      <td>0.99490</td>\n",
              "      <td>3.15</td>\n",
              "      <td>0.46</td>\n",
              "      <td>9.6</td>\n",
              "      <td>5</td>\n",
              "    </tr>\n",
              "    <tr>\n",
              "      <th>4895</th>\n",
              "      <td>6.5</td>\n",
              "      <td>0.24</td>\n",
              "      <td>0.19</td>\n",
              "      <td>1.2</td>\n",
              "      <td>0.041</td>\n",
              "      <td>30.0</td>\n",
              "      <td>111.0</td>\n",
              "      <td>0.99254</td>\n",
              "      <td>2.99</td>\n",
              "      <td>0.46</td>\n",
              "      <td>9.4</td>\n",
              "      <td>6</td>\n",
              "    </tr>\n",
              "    <tr>\n",
              "      <th>4896</th>\n",
              "      <td>5.5</td>\n",
              "      <td>0.29</td>\n",
              "      <td>0.30</td>\n",
              "      <td>1.1</td>\n",
              "      <td>0.022</td>\n",
              "      <td>20.0</td>\n",
              "      <td>110.0</td>\n",
              "      <td>0.98869</td>\n",
              "      <td>3.34</td>\n",
              "      <td>0.38</td>\n",
              "      <td>12.8</td>\n",
              "      <td>7</td>\n",
              "    </tr>\n",
              "    <tr>\n",
              "      <th>4897</th>\n",
              "      <td>6.0</td>\n",
              "      <td>0.21</td>\n",
              "      <td>0.38</td>\n",
              "      <td>0.8</td>\n",
              "      <td>0.020</td>\n",
              "      <td>22.0</td>\n",
              "      <td>98.0</td>\n",
              "      <td>0.98941</td>\n",
              "      <td>3.26</td>\n",
              "      <td>0.32</td>\n",
              "      <td>11.8</td>\n",
              "      <td>6</td>\n",
              "    </tr>\n",
              "  </tbody>\n",
              "</table>\n",
              "<p>4898 rows × 12 columns</p>\n",
              "</div>\n",
              "      <button class=\"colab-df-convert\" onclick=\"convertToInteractive('df-008000f6-1465-4b26-b958-c0313b636bcd')\"\n",
              "              title=\"Convert this dataframe to an interactive table.\"\n",
              "              style=\"display:none;\">\n",
              "        \n",
              "  <svg xmlns=\"http://www.w3.org/2000/svg\" height=\"24px\"viewBox=\"0 0 24 24\"\n",
              "       width=\"24px\">\n",
              "    <path d=\"M0 0h24v24H0V0z\" fill=\"none\"/>\n",
              "    <path d=\"M18.56 5.44l.94 2.06.94-2.06 2.06-.94-2.06-.94-.94-2.06-.94 2.06-2.06.94zm-11 1L8.5 8.5l.94-2.06 2.06-.94-2.06-.94L8.5 2.5l-.94 2.06-2.06.94zm10 10l.94 2.06.94-2.06 2.06-.94-2.06-.94-.94-2.06-.94 2.06-2.06.94z\"/><path d=\"M17.41 7.96l-1.37-1.37c-.4-.4-.92-.59-1.43-.59-.52 0-1.04.2-1.43.59L10.3 9.45l-7.72 7.72c-.78.78-.78 2.05 0 2.83L4 21.41c.39.39.9.59 1.41.59.51 0 1.02-.2 1.41-.59l7.78-7.78 2.81-2.81c.8-.78.8-2.07 0-2.86zM5.41 20L4 18.59l7.72-7.72 1.47 1.35L5.41 20z\"/>\n",
              "  </svg>\n",
              "      </button>\n",
              "      \n",
              "  <style>\n",
              "    .colab-df-container {\n",
              "      display:flex;\n",
              "      flex-wrap:wrap;\n",
              "      gap: 12px;\n",
              "    }\n",
              "\n",
              "    .colab-df-convert {\n",
              "      background-color: #E8F0FE;\n",
              "      border: none;\n",
              "      border-radius: 50%;\n",
              "      cursor: pointer;\n",
              "      display: none;\n",
              "      fill: #1967D2;\n",
              "      height: 32px;\n",
              "      padding: 0 0 0 0;\n",
              "      width: 32px;\n",
              "    }\n",
              "\n",
              "    .colab-df-convert:hover {\n",
              "      background-color: #E2EBFA;\n",
              "      box-shadow: 0px 1px 2px rgba(60, 64, 67, 0.3), 0px 1px 3px 1px rgba(60, 64, 67, 0.15);\n",
              "      fill: #174EA6;\n",
              "    }\n",
              "\n",
              "    [theme=dark] .colab-df-convert {\n",
              "      background-color: #3B4455;\n",
              "      fill: #D2E3FC;\n",
              "    }\n",
              "\n",
              "    [theme=dark] .colab-df-convert:hover {\n",
              "      background-color: #434B5C;\n",
              "      box-shadow: 0px 1px 3px 1px rgba(0, 0, 0, 0.15);\n",
              "      filter: drop-shadow(0px 1px 2px rgba(0, 0, 0, 0.3));\n",
              "      fill: #FFFFFF;\n",
              "    }\n",
              "  </style>\n",
              "\n",
              "      <script>\n",
              "        const buttonEl =\n",
              "          document.querySelector('#df-008000f6-1465-4b26-b958-c0313b636bcd button.colab-df-convert');\n",
              "        buttonEl.style.display =\n",
              "          google.colab.kernel.accessAllowed ? 'block' : 'none';\n",
              "\n",
              "        async function convertToInteractive(key) {\n",
              "          const element = document.querySelector('#df-008000f6-1465-4b26-b958-c0313b636bcd');\n",
              "          const dataTable =\n",
              "            await google.colab.kernel.invokeFunction('convertToInteractive',\n",
              "                                                     [key], {});\n",
              "          if (!dataTable) return;\n",
              "\n",
              "          const docLinkHtml = 'Like what you see? Visit the ' +\n",
              "            '<a target=\"_blank\" href=https://colab.research.google.com/notebooks/data_table.ipynb>data table notebook</a>'\n",
              "            + ' to learn more about interactive tables.';\n",
              "          element.innerHTML = '';\n",
              "          dataTable['output_type'] = 'display_data';\n",
              "          await google.colab.output.renderOutput(dataTable, element);\n",
              "          const docLink = document.createElement('div');\n",
              "          docLink.innerHTML = docLinkHtml;\n",
              "          element.appendChild(docLink);\n",
              "        }\n",
              "      </script>\n",
              "    </div>\n",
              "  </div>\n",
              "  "
            ]
          },
          "metadata": {},
          "execution_count": 2
        }
      ]
    },
    {
      "cell_type": "markdown",
      "source": [
        "# **Part 1: Data Visualization and Analysis**"
      ],
      "metadata": {
        "id": "c9lvpQYT4guU"
      }
    },
    {
      "cell_type": "markdown",
      "source": [
        "**1a. Histogram of Counts**"
      ],
      "metadata": {
        "id": "krys2NIS4_Q0"
      }
    },
    {
      "cell_type": "markdown",
      "source": [
        "The rating/quality data does seem to be approximately normally distributed. The ratings that are the most common are 6, 5 and 7, in that order.\n",
        "I think the ratings follow that distribution because it is hard to make anything to be perfectly tailors to everyone's tastes. Therefore, I think the judges felt like most of the wines they tasted were about average. This distribution will affect my prediction metrics by knowing that most wines will fall under a quality of 5-7. I think this will affect my prediction metrics because the qualities with the higher counts (e.g. 6) should be predicted more often."
      ],
      "metadata": {
        "id": "Kpk9BBW4E0n9"
      }
    },
    {
      "cell_type": "code",
      "source": [
        "sns.countplot(x=df[\"quality\"])"
      ],
      "metadata": {
        "colab": {
          "base_uri": "https://localhost:8080/",
          "height": 296
        },
        "id": "I_cAO-jQ7852",
        "outputId": "add2548f-81a7-4a22-883d-487fb44a1b7c"
      },
      "execution_count": null,
      "outputs": [
        {
          "output_type": "execute_result",
          "data": {
            "text/plain": [
              "<AxesSubplot:xlabel='quality', ylabel='count'>"
            ]
          },
          "metadata": {},
          "execution_count": 3
        },
        {
          "output_type": "display_data",
          "data": {
            "text/plain": [
              "<Figure size 432x288 with 1 Axes>"
            ],
            "image/png": "[encoded data removed]"
          },
          "metadata": {
            "needs_background": "light"
          }
        }
      ]
    },
    {
      "cell_type": "code",
      "source": [
        "sns.countplot(x=df[\"fixed acidity\"])"
      ],
      "metadata": {
        "colab": {
          "base_uri": "https://localhost:8080/",
          "height": 296
        },
        "id": "jmQxoywM4-oc",
        "outputId": "358883b3-a4bc-436b-b9f2-e37824d2bd58"
      },
      "execution_count": null,
      "outputs": [
        {
          "output_type": "execute_result",
          "data": {
            "text/plain": [
              "<AxesSubplot:xlabel='fixed acidity', ylabel='count'>"
            ]
          },
          "metadata": {},
          "execution_count": 4
        },
        {
          "output_type": "display_data",
          "data": {
            "text/plain": [
              "<Figure size 432x288 with 1 Axes>"
            ],
            "image/png": "[encoded data removed]"
          },
          "metadata": {
            "needs_background": "light"
          }
        }
      ]
    },
    {
      "cell_type": "code",
      "source": [
        "sns.countplot(x=df[\"volatile acidity\"])"
      ],
      "metadata": {
        "colab": {
          "base_uri": "https://localhost:8080/",
          "height": 296
        },
        "id": "py2YGH7V7TFy",
        "outputId": "14b16e75-2737-4141-878b-111766693040"
      },
      "execution_count": null,
      "outputs": [
        {
          "output_type": "execute_result",
          "data": {
            "text/plain": [
              "<AxesSubplot:xlabel='volatile acidity', ylabel='count'>"
            ]
          },
          "metadata": {},
          "execution_count": 5
        },
        {
          "output_type": "display_data",
          "data": {
            "text/plain": [
              "<Figure size 432x288 with 1 Axes>"
            ],
            "image/png": "[encoded data removed]"
          },
          "metadata": {
            "needs_background": "light"
          }
        }
      ]
    },
    {
      "cell_type": "code",
      "source": [
        "sns.countplot(x=df[\"citric acid\"])"
      ],
      "metadata": {
        "colab": {
          "base_uri": "https://localhost:8080/",
          "height": 296
        },
        "id": "mLeQYEi-7hF6",
        "outputId": "ac9daa21-3919-4154-9fba-5ae8b30445fa"
      },
      "execution_count": null,
      "outputs": [
        {
          "output_type": "execute_result",
          "data": {
            "text/plain": [
              "<AxesSubplot:xlabel='citric acid', ylabel='count'>"
            ]
          },
          "metadata": {},
          "execution_count": 6
        },
        {
          "output_type": "display_data",
          "data": {
            "text/plain": [
              "<Figure size 432x288 with 1 Axes>"
            ],
            "image/png": "[encoded data removed]"
          },
          "metadata": {
            "needs_background": "light"
          }
        }
      ]
    },
    {
      "cell_type": "code",
      "source": [
        "sns.countplot(x=df[\"residual sugar\"])"
      ],
      "metadata": {
        "colab": {
          "base_uri": "https://localhost:8080/",
          "height": 296
        },
        "id": "OPwYRNMs7lpb",
        "outputId": "91d80c6a-6c42-4e70-8cfe-23cb38919c13"
      },
      "execution_count": null,
      "outputs": [
        {
          "output_type": "execute_result",
          "data": {
            "text/plain": [
              "<AxesSubplot:xlabel='residual sugar', ylabel='count'>"
            ]
          },
          "metadata": {},
          "execution_count": 7
        },
        {
          "output_type": "display_data",
          "data": {
            "text/plain": [
              "<Figure size 432x288 with 1 Axes>"
            ],
            "image/png": "[encoded data removed]"
          },
          "metadata": {
            "needs_background": "light"
          }
        }
      ]
    },
    {
      "cell_type": "code",
      "source": [
        "sns.countplot(x=df[\"chlorides\"])"
      ],
      "metadata": {
        "colab": {
          "base_uri": "https://localhost:8080/",
          "height": 296
        },
        "id": "IR-3zWqK7qOS",
        "outputId": "47392d7a-d4b8-45a6-8a39-cf752dbdebc2"
      },
      "execution_count": null,
      "outputs": [
        {
          "output_type": "execute_result",
          "data": {
            "text/plain": [
              "<AxesSubplot:xlabel='chlorides', ylabel='count'>"
            ]
          },
          "metadata": {},
          "execution_count": 8
        },
        {
          "output_type": "display_data",
          "data": {
            "text/plain": [
              "<Figure size 432x288 with 1 Axes>"
            ],
            "image/png": "[encoded data removed]"
          },
          "metadata": {
            "needs_background": "light"
          }
        }
      ]
    },
    {
      "cell_type": "code",
      "source": [
        "sns.countplot(x=df[\"free sulfur dioxide\"])"
      ],
      "metadata": {
        "colab": {
          "base_uri": "https://localhost:8080/",
          "height": 296
        },
        "id": "Iluvucf07uGk",
        "outputId": "e189ef8d-5ec8-4b2e-a3a3-0b3698a3b146"
      },
      "execution_count": null,
      "outputs": [
        {
          "output_type": "execute_result",
          "data": {
            "text/plain": [
              "<AxesSubplot:xlabel='free sulfur dioxide', ylabel='count'>"
            ]
          },
          "metadata": {},
          "execution_count": 9
        },
        {
          "output_type": "display_data",
          "data": {
            "text/plain": [
              "<Figure size 432x288 with 1 Axes>"
            ],
            "image/png": "[encoded data removed]"
          },
          "metadata": {
            "needs_background": "light"
          }
        }
      ]
    },
    {
      "cell_type": "code",
      "source": [
        "sns.countplot(x=df[\"total sulfur dioxide\"])"
      ],
      "metadata": {
        "colab": {
          "base_uri": "https://localhost:8080/",
          "height": 296
        },
        "id": "qqFJLPgr7wsU",
        "outputId": "b556e10c-c433-45ab-8b34-5c0586d4f8fb"
      },
      "execution_count": null,
      "outputs": [
        {
          "output_type": "execute_result",
          "data": {
            "text/plain": [
              "<AxesSubplot:xlabel='total sulfur dioxide', ylabel='count'>"
            ]
          },
          "metadata": {},
          "execution_count": 10
        },
        {
          "output_type": "display_data",
          "data": {
            "text/plain": [
              "<Figure size 432x288 with 1 Axes>"
            ],
            "image/png": "[encoded data removed]"
          },
          "metadata": {
            "needs_background": "light"
          }
        }
      ]
    },
    {
      "cell_type": "code",
      "source": [
        "sns.countplot(x=df[\"density\"])"
      ],
      "metadata": {
        "colab": {
          "base_uri": "https://localhost:8080/",
          "height": 296
        },
        "id": "kDeJY_Nc70Qt",
        "outputId": "5b77d42b-c338-4ae7-b635-8ceefcd996b6"
      },
      "execution_count": null,
      "outputs": [
        {
          "output_type": "execute_result",
          "data": {
            "text/plain": [
              "<AxesSubplot:xlabel='density', ylabel='count'>"
            ]
          },
          "metadata": {},
          "execution_count": 11
        },
        {
          "output_type": "display_data",
          "data": {
            "text/plain": [
              "<Figure size 432x288 with 1 Axes>"
            ],
            "image/png": "[encoded data removed]"
          },
          "metadata": {
            "needs_background": "light"
          }
        }
      ]
    },
    {
      "cell_type": "code",
      "source": [
        "sns.countplot(x=df[\"pH\"])"
      ],
      "metadata": {
        "colab": {
          "base_uri": "https://localhost:8080/",
          "height": 296
        },
        "id": "uCB4-yfB72RE",
        "outputId": "de07a4c9-5bcf-45c4-a726-574e12bbd0f0"
      },
      "execution_count": null,
      "outputs": [
        {
          "output_type": "execute_result",
          "data": {
            "text/plain": [
              "<AxesSubplot:xlabel='pH', ylabel='count'>"
            ]
          },
          "metadata": {},
          "execution_count": 12
        },
        {
          "output_type": "display_data",
          "data": {
            "text/plain": [
              "<Figure size 432x288 with 1 Axes>"
            ],
            "image/png": "[encoded data removed]"
          },
          "metadata": {
            "needs_background": "light"
          }
        }
      ]
    },
    {
      "cell_type": "code",
      "source": [
        "sns.countplot(x=df[\"sulphates\"])"
      ],
      "metadata": {
        "colab": {
          "base_uri": "https://localhost:8080/",
          "height": 296
        },
        "id": "6Z62AlsO74SU",
        "outputId": "fe1c9754-13a8-4543-eb85-d3a4c3501fde"
      },
      "execution_count": null,
      "outputs": [
        {
          "output_type": "execute_result",
          "data": {
            "text/plain": [
              "<AxesSubplot:xlabel='sulphates', ylabel='count'>"
            ]
          },
          "metadata": {},
          "execution_count": 13
        },
        {
          "output_type": "display_data",
          "data": {
            "text/plain": [
              "<Figure size 432x288 with 1 Axes>"
            ],
            "image/png": "[encoded data removed]"
          },
          "metadata": {
            "needs_background": "light"
          }
        }
      ]
    },
    {
      "cell_type": "code",
      "source": [
        "sns.countplot(x=df[\"alcohol\"])"
      ],
      "metadata": {
        "colab": {
          "base_uri": "https://localhost:8080/",
          "height": 296
        },
        "id": "Oy8yHwfg763e",
        "outputId": "355a4ffd-567e-4b51-e44e-7f8dd4c2b3b6"
      },
      "execution_count": null,
      "outputs": [
        {
          "output_type": "execute_result",
          "data": {
            "text/plain": [
              "<AxesSubplot:xlabel='alcohol', ylabel='count'>"
            ]
          },
          "metadata": {},
          "execution_count": 14
        },
        {
          "output_type": "display_data",
          "data": {
            "text/plain": [
              "<Figure size 432x288 with 1 Axes>"
            ],
            "image/png": "[encoded data removed]"
          },
          "metadata": {
            "needs_background": "light"
          }
        }
      ]
    },
    {
      "cell_type": "markdown",
      "source": [
        "**1b. Dense Histogram Plot + Pair-Wise Joint Plot**"
      ],
      "metadata": {
        "id": "RUNx98DH5JGd"
      }
    },
    {
      "cell_type": "markdown",
      "source": [
        "**Dense Histogram Plot:** The distribution of alcohol to density does not look normal. It seems like alcohol content of 9/10 has the highest density. As you increase alcohol content the density slowly decreases, but if you decrease alcohol content, the density rapidly falls.\n",
        "**Pair-Wise Joint Plot:** The relationship between alcohol content and density is still not very normal, although it looks more normal in the pair-wise joint plot. Furthermore, the relationship seems inverse. As alcohol content increases, the density decreases."
      ],
      "metadata": {
        "id": "FlC6ULqqFqIK"
      }
    },
    {
      "cell_type": "code",
      "source": [
        "sns.distplot(df['alcohol'], kde = True)"
      ],
      "metadata": {
        "colab": {
          "base_uri": "https://localhost:8080/",
          "height": 351
        },
        "id": "QuaA0Rkt8QNf",
        "outputId": "9849b8b0-0030-4c4c-8eb1-27d3e7846787"
      },
      "execution_count": null,
      "outputs": [
        {
          "output_type": "stream",
          "name": "stderr",
          "text": [
            "/usr/local/lib/python3.9/dist-packages/seaborn/distributions.py:2619: FutureWarning: `distplot` is a deprecated function and will be removed in a future version. Please adapt your code to use either `displot` (a figure-level function with similar flexibility) or `histplot` (an axes-level function for histograms).\n",
            "  warnings.warn(msg, FutureWarning)\n"
          ]
        },
        {
          "output_type": "execute_result",
          "data": {
            "text/plain": [
              "<AxesSubplot:xlabel='alcohol', ylabel='Density'>"
            ]
          },
          "metadata": {},
          "execution_count": 15
        },
        {
          "output_type": "display_data",
          "data": {
            "text/plain": [
              "<Figure size 432x288 with 1 Axes>"
            ],
            "image/png": "[encoded data removed]"
          },
          "metadata": {
            "needs_background": "light"
          }
        }
      ]
    },
    {
      "cell_type": "code",
      "source": [
        "sns.distplot(df['density'], kde = True)"
      ],
      "metadata": {
        "colab": {
          "base_uri": "https://localhost:8080/",
          "height": 351
        },
        "id": "ojt1zMyjghNm",
        "outputId": "b6b552a2-ceef-4171-c076-00deef1854b3"
      },
      "execution_count": null,
      "outputs": [
        {
          "output_type": "stream",
          "name": "stderr",
          "text": [
            "/usr/local/lib/python3.9/dist-packages/seaborn/distributions.py:2619: FutureWarning: `distplot` is a deprecated function and will be removed in a future version. Please adapt your code to use either `displot` (a figure-level function with similar flexibility) or `histplot` (an axes-level function for histograms).\n",
            "  warnings.warn(msg, FutureWarning)\n"
          ]
        },
        {
          "output_type": "execute_result",
          "data": {
            "text/plain": [
              "<AxesSubplot:xlabel='density', ylabel='Density'>"
            ]
          },
          "metadata": {},
          "execution_count": 16
        },
        {
          "output_type": "display_data",
          "data": {
            "text/plain": [
              "<Figure size 432x288 with 1 Axes>"
            ],
            "image/png": "[encoded data removed]"
          },
          "metadata": {
            "needs_background": "light"
          }
        }
      ]
    },
    {
      "cell_type": "code",
      "source": [
        "sns.jointplot(x = df['alcohol'], y = df['density'])"
      ],
      "metadata": {
        "colab": {
          "base_uri": "https://localhost:8080/",
          "height": 458
        },
        "id": "QrF13I0J96-J",
        "outputId": "6e209807-aa32-4413-bb8b-a78be3508462"
      },
      "execution_count": null,
      "outputs": [
        {
          "output_type": "execute_result",
          "data": {
            "text/plain": [
              "<seaborn.axisgrid.JointGrid at 0x7feb602d4a60>"
            ]
          },
          "metadata": {},
          "execution_count": 17
        },
        {
          "output_type": "display_data",
          "data": {
            "text/plain": [
              "<Figure size 432x432 with 3 Axes>"
            ],
            "image/png": "[encoded data removed]"
          },
          "metadata": {
            "needs_background": "light"
          }
        }
      ]
    },
    {
      "cell_type": "markdown",
      "source": [
        "**1c. Heatmap of Pairwise Correlation**"
      ],
      "metadata": {
        "id": "Vz5g_EaC5KT9"
      }
    },
    {
      "cell_type": "markdown",
      "source": [
        "I see a clustering of high correlation in the middle with free sulfur dioxide, total sulfur dioxide and density. I also see trends with quality and alcohol having a high correlation and alcohol and density having a very low correlation."
      ],
      "metadata": {
        "id": "8yXW3E7vGBwD"
      }
    },
    {
      "cell_type": "code",
      "source": [
        "correlation = df.corr()\n",
        "sns.heatmap(correlation)"
      ],
      "metadata": {
        "colab": {
          "base_uri": "https://localhost:8080/",
          "height": 370
        },
        "id": "dlBzEnad-RZt",
        "outputId": "35ba43fb-430e-4e9c-a451-5a2346b23ed8"
      },
      "execution_count": null,
      "outputs": [
        {
          "output_type": "execute_result",
          "data": {
            "text/plain": [
              "<AxesSubplot:>"
            ]
          },
          "metadata": {},
          "execution_count": 18
        },
        {
          "output_type": "display_data",
          "data": {
            "text/plain": [
              "<Figure size 432x288 with 2 Axes>"
            ],
            "image/png": "[encoded data removed]"
          },
          "metadata": {
            "needs_background": "light"
          }
        }
      ]
    },
    {
      "cell_type": "markdown",
      "source": [
        "# **Part 2: Parametric Modeling**"
      ],
      "metadata": {
        "id": "v8r8DatE4pjM"
      }
    },
    {
      "cell_type": "markdown",
      "source": [
        "**2a. Linear Model**"
      ],
      "metadata": {
        "id": "v93JLTN35Me0"
      }
    },
    {
      "cell_type": "markdown",
      "source": [
        "I chose alcohol content as the input feature because I noticed that quality had the highest correlation with alcohol content in the heat map from part 1c. \n",
        "I also normalized both features. \n",
        "The equation for the unnormalized features is \n",
        "\\begin{equation}\n",
        "quality = ((0.4287(alcohol * 1.230620567757318) + 10.514267047774602 + 0.0017) * 0.8856385749678312) + 5.87790935075541\n",
        "\\end{equation}\n",
        "Using Manhattan Distance to measure the quality of the model, it each point had an error rate of about 0.7087154984230036."
      ],
      "metadata": {
        "id": "hJl21Z8lLuP0"
      }
    },
    {
      "cell_type": "code",
      "source": [
        "def linearModel(params, inputs):\n",
        "  y_pred = params[0]*inputs + params[1]\n",
        "  return y_pred"
      ],
      "metadata": {
        "id": "Kv7lZ-jrJvrs"
      },
      "execution_count": null,
      "outputs": []
    },
    {
      "cell_type": "code",
      "source": [
        "def gradDec(model, n_params, x, y, lr=0.001, n_epochs=2000, print_rate=200):\n",
        "\n",
        "  params = .1*torch.rand(n_params).float() #Random inital paramaters\n",
        "  params.requires_grad = True\n",
        "\n",
        "  for epoch in range(n_epochs):\n",
        "    y_pred = model(params, x)\n",
        "    loss_tenor = (y_pred - y)**2\n",
        "    loss = loss_tenor.mean()\n",
        "    loss.backward()\n",
        "    with torch.no_grad():\n",
        "      params -= lr*params.grad\n",
        "      params.grad.zero_() \n",
        "    if epoch%print_rate==0:\n",
        "      print(\"epoch:\",epoch,\"loss=\",loss.item())\n",
        "\n",
        "  return params"
      ],
      "metadata": {
        "id": "bLwp19CRJgK7"
      },
      "execution_count": null,
      "outputs": []
    },
    {
      "cell_type": "code",
      "source": [
        "print(df['alcohol'].mean())\n",
        "print(df['alcohol'].std())\n",
        "print(df['quality'].mean())\n",
        "print(df['quality'].std())\n",
        "feature_norm = (df['alcohol'] - df['alcohol'].mean())/df['alcohol'].std()\n",
        "quality_norm = (df['quality'] - df['quality'].mean())/df['quality'].std()\n",
        "params = gradDec(linearModel,2,torch.Tensor(feature_norm.to_numpy()),torch.Tensor(quality_norm.to_numpy()))\n",
        "print(params)"
      ],
      "metadata": {
        "id": "7G4eyTj7_UjA",
        "colab": {
          "base_uri": "https://localhost:8080/"
        },
        "outputId": "ac98d515-5895-4bd2-97bc-65809e32afc3"
      },
      "execution_count": null,
      "outputs": [
        {
          "output_type": "stream",
          "name": "stdout",
          "text": [
            "10.514267047774602\n",
            "1.230620567757318\n",
            "5.87790935075541\n",
            "0.8856385749678312\n",
            "epoch: 0 loss= 0.9401821494102478\n",
            "epoch: 200 loss= 0.8685174584388733\n",
            "epoch: 400 loss= 0.8363369703292847\n",
            "epoch: 600 loss= 0.8218865394592285\n",
            "epoch: 800 loss= 0.8153977394104004\n",
            "epoch: 1000 loss= 0.8124839067459106\n",
            "epoch: 1200 loss= 0.8111755847930908\n",
            "epoch: 1400 loss= 0.8105880618095398\n",
            "epoch: 1600 loss= 0.8103242516517639\n",
            "epoch: 1800 loss= 0.8102057576179504\n",
            "tensor([0.4290, 0.0007], requires_grad=True)\n"
          ]
        }
      ]
    },
    {
      "cell_type": "code",
      "source": [
        "#manhattan distance\n",
        "pred_a = []\n",
        "pred_a_unormalized = []\n",
        "total_dist = 0\n",
        "for i in range(len(feature_norm)):\n",
        "  y_pred =params[0].item() * feature_norm[i] + params[1].item()\n",
        "  pred_a.append(y_pred)\n",
        "  pred_a_unormalized.append(y_pred * df['quality'].std() +  df['quality'].mean())\n",
        "  total_dist += abs(y_pred - quality_norm[i])\n",
        "print(total_dist / len(feature_norm))\n"
      ],
      "metadata": {
        "colab": {
          "base_uri": "https://localhost:8080/"
        },
        "id": "fh1TQBzXqPN9",
        "outputId": "06eb2446-23df-41b3-bb4b-3247b4014c06"
      },
      "execution_count": null,
      "outputs": [
        {
          "output_type": "stream",
          "name": "stdout",
          "text": [
            "0.7087155301824789\n"
          ]
        }
      ]
    },
    {
      "cell_type": "code",
      "source": [
        "sns.violinplot(x = df['quality'], y = pred_a_unormalized)"
      ],
      "metadata": {
        "colab": {
          "base_uri": "https://localhost:8080/",
          "height": 296
        },
        "id": "EAvmABbz4pQG",
        "outputId": "5aed3a08-aad6-4ea9-c2fc-56108e479cc9"
      },
      "execution_count": null,
      "outputs": [
        {
          "output_type": "execute_result",
          "data": {
            "text/plain": [
              "<AxesSubplot:xlabel='quality'>"
            ]
          },
          "metadata": {},
          "execution_count": 23
        },
        {
          "output_type": "display_data",
          "data": {
            "text/plain": [
              "<Figure size 432x288 with 1 Axes>"
            ],
            "image/png": "[encoded data removed]"
          },
          "metadata": {
            "needs_background": "light"
          }
        }
      ]
    },
    {
      "cell_type": "markdown",
      "source": [
        "**2b. Multiple-Linear Model**"
      ],
      "metadata": {
        "id": "yxPrp1xG5W02"
      }
    },
    {
      "cell_type": "markdown",
      "source": [
        "I chose alcohol content, sulphates and pH as the input features because I noticed that they had the highest correlation with quality according to the heat map from part 1c. I also normalized all the features. The equation for the unnormalized features is \n",
        "\\begin{equation}\n",
        "quality = ((0.4236((alcohol * 1.2306) + 10.5143) + 0.0535((sulphates *0.1141) + 0.4898) + 0.0426((pH * 0.1510) +3.1883) + 0.0017)  * 0.8856) + 5.8779\n",
        "\\end{equation}\n",
        "Using Manhattan Distance to measure the quality of the model, it each point had an error rate of about 0.7030."
      ],
      "metadata": {
        "id": "JDWtvlkG3uZq"
      }
    },
    {
      "cell_type": "code",
      "source": [
        "def multiLinearModel(params, inputs):\n",
        "  y_pred = params[0]*inputs[:,0] + params[1]*inputs[:,1] + params[2]*inputs[:,2] + params[3]\n",
        "  return y_pred"
      ],
      "metadata": {
        "id": "VkMz0QPE0Iz4"
      },
      "execution_count": null,
      "outputs": []
    },
    {
      "cell_type": "code",
      "source": [
        "df = pd.read_csv(\"WhiteWine.txt\")\n",
        "features=[\"alcohol\",\"sulphates\",\"pH\"]\n",
        "x = torch.Tensor(df[features].values)\n",
        "y = torch.Tensor(df[\"quality\"].values)"
      ],
      "metadata": {
        "id": "jJd_NOdg0P5i"
      },
      "execution_count": null,
      "outputs": []
    },
    {
      "cell_type": "code",
      "source": [
        "x_mean = x.mean(dim=0)\n",
        "x_mean\n",
        "x_std = x.std(dim=0)"
      ],
      "metadata": {
        "id": "NjxfGGE32rE0"
      },
      "execution_count": null,
      "outputs": []
    },
    {
      "cell_type": "code",
      "source": [
        "x_norm = (x-x_mean)/x_std\n",
        "y_mean = y.mean(dim=0)\n",
        "y_std = y.std(dim=0)\n",
        "y_norm = (y-y_mean)/y_std"
      ],
      "metadata": {
        "id": "QcMAmqkL2sxK"
      },
      "execution_count": null,
      "outputs": []
    },
    {
      "cell_type": "code",
      "source": [
        "print(x_mean)\n",
        "print(x_std)\n",
        "print(y_mean)\n",
        "print(y_std)"
      ],
      "metadata": {
        "colab": {
          "base_uri": "https://localhost:8080/"
        },
        "id": "zRhyc3AAEWIr",
        "outputId": "19fc27d5-a113-4bc7-8983-2ab6c209668f"
      },
      "execution_count": null,
      "outputs": [
        {
          "output_type": "stream",
          "name": "stdout",
          "text": [
            "tensor([10.5143,  0.4898,  3.1883])\n",
            "tensor([1.2306, 0.1141, 0.1510])\n",
            "tensor(5.8779)\n",
            "tensor(0.8856)\n"
          ]
        }
      ]
    },
    {
      "cell_type": "code",
      "source": [
        "params = gradDec(multiLinearModel,4,x_norm,y_norm,0.001)"
      ],
      "metadata": {
        "colab": {
          "base_uri": "https://localhost:8080/"
        },
        "id": "rcbJRgnU2voz",
        "outputId": "604c0665-a733-4420-fc1d-d6ea8b5ebb9d"
      },
      "execution_count": null,
      "outputs": [
        {
          "output_type": "stream",
          "name": "stdout",
          "text": [
            "epoch: 0 loss= 0.9564160704612732\n",
            "epoch: 200 loss= 0.8715192079544067\n",
            "epoch: 400 loss= 0.8343961238861084\n",
            "epoch: 600 loss= 0.818061113357544\n",
            "epoch: 800 loss= 0.8108267784118652\n",
            "epoch: 1000 loss= 0.8076010346412659\n",
            "epoch: 1200 loss= 0.8061526417732239\n",
            "epoch: 1400 loss= 0.8054975271224976\n",
            "epoch: 1600 loss= 0.8051987886428833\n",
            "epoch: 1800 loss= 0.8050614595413208\n"
          ]
        }
      ]
    },
    {
      "cell_type": "code",
      "source": [
        "#manhattan distance\n",
        "pred_b = []\n",
        "pred_b_unormalized = []\n",
        "total_dist = 0\n",
        "for i in range(len(x_norm)):\n",
        "  y_pred = params[0].item() * x_norm[i][0] + params[1].item() * x_norm[i][1] + params[2].item() * x_norm[i][2] + params[3].item()\n",
        "  pred_b.append(y_pred.item())\n",
        "  pred_b_unormalized.append(y_pred.item() * y_std.item() + y_mean.item())\n",
        "  total_dist += abs(y_pred - y_norm[i])\n",
        "print(total_dist / len(x_norm))"
      ],
      "metadata": {
        "colab": {
          "base_uri": "https://localhost:8080/"
        },
        "id": "5i5uLRF33OR3",
        "outputId": "888bebc4-82fe-4f51-db0d-a6e21aaf5605"
      },
      "execution_count": null,
      "outputs": [
        {
          "output_type": "stream",
          "name": "stdout",
          "text": [
            "tensor(0.7030)\n"
          ]
        }
      ]
    },
    {
      "cell_type": "code",
      "source": [
        "sns.violinplot(x =df[\"quality\"], y = pred_b_unormalized)"
      ],
      "metadata": {
        "colab": {
          "base_uri": "https://localhost:8080/",
          "height": 296
        },
        "id": "5L4pMeW54yQR",
        "outputId": "3600dca0-11e8-4f88-9e5d-ea08d457479e"
      },
      "execution_count": null,
      "outputs": [
        {
          "output_type": "execute_result",
          "data": {
            "text/plain": [
              "<AxesSubplot:xlabel='quality'>"
            ]
          },
          "metadata": {},
          "execution_count": 31
        },
        {
          "output_type": "display_data",
          "data": {
            "text/plain": [
              "<Figure size 432x288 with 1 Axes>"
            ],
            "image/png": "[encoded data removed]"
          },
          "metadata": {
            "needs_background": "light"
          }
        }
      ]
    },
    {
      "cell_type": "markdown",
      "source": [
        "**2c. Non-Linear Model**"
      ],
      "metadata": {
        "id": "1JT7qF1D5YuV"
      }
    },
    {
      "cell_type": "markdown",
      "source": [
        "I chose alcohol and sulphates as the input features because I noticed they were not highly correlated. I also normalized all the features. The equation for the unnormalized features is \n",
        "\\begin{equation}\n",
        "quality = ((0.4943((residualSugar * 5.0721) + 6.3914) - 0.75((density * 0.0029909) + 0.9940) + 0.0315 * ((residualSugar * 5.0721) + 6.3914) * ((density * 0.0029909) + 0.9940) - 0.0265)  * 0.8856) + 5.8779\n",
        "\\end{equation} \n",
        "Using Manhattan Distance to measure the quality of the model, it each point had an error rate of about 0.7155."
      ],
      "metadata": {
        "id": "g_GqRVvo86JE"
      }
    },
    {
      "cell_type": "code",
      "source": [
        "def multiLinearModel_withInteraction(params, inputs):\n",
        "  y_pred = params[0]*inputs[:,0] + params[1]*inputs[:,1] + params[2]*(inputs[:,0]*inputs[:,1]) + params[3]\n",
        "  return y_pred\n"
      ],
      "metadata": {
        "id": "BdtpFQwC5k4W"
      },
      "execution_count": null,
      "outputs": []
    },
    {
      "cell_type": "code",
      "source": [
        "df = pd.read_csv(\"WhiteWine.txt\")\n",
        "features=[\"alcohol\",\"sulphates\"]\n",
        "x = torch.Tensor(df[features].values)\n",
        "y = torch.Tensor(df[\"quality\"].values)"
      ],
      "metadata": {
        "id": "yETKXaVA5toJ"
      },
      "execution_count": null,
      "outputs": []
    },
    {
      "cell_type": "code",
      "source": [
        "x_mean = x.mean(dim=0)\n",
        "x_std = x.std(dim=0)\n",
        "x_mean"
      ],
      "metadata": {
        "colab": {
          "base_uri": "https://localhost:8080/"
        },
        "id": "-Wlmpa0K6r3r",
        "outputId": "86d14c38-7523-421c-bfaf-37775de3a50c"
      },
      "execution_count": null,
      "outputs": [
        {
          "output_type": "execute_result",
          "data": {
            "text/plain": [
              "tensor([10.5143,  0.4898])"
            ]
          },
          "metadata": {},
          "execution_count": 34
        }
      ]
    },
    {
      "cell_type": "code",
      "source": [
        "x_norm = (x-x_mean)/x_std\n",
        "y_std = y.std(dim=0)\n",
        "y_mean = y.mean(dim=0)\n",
        "y_norm = (y-y_mean)/y_std"
      ],
      "metadata": {
        "id": "Ra-LjgQZ6BQ2"
      },
      "execution_count": null,
      "outputs": []
    },
    {
      "cell_type": "code",
      "source": [
        "print(x_mean)\n",
        "print(x_std)\n",
        "print(y_mean)\n",
        "print(y_std)"
      ],
      "metadata": {
        "colab": {
          "base_uri": "https://localhost:8080/"
        },
        "id": "7Zex2whCHAKh",
        "outputId": "6fc04d7c-8b51-42f7-b2ad-ffdb85411012"
      },
      "execution_count": null,
      "outputs": [
        {
          "output_type": "stream",
          "name": "stdout",
          "text": [
            "tensor([10.5143,  0.4898])\n",
            "tensor([1.2306, 0.1141])\n",
            "tensor(5.8779)\n",
            "tensor(0.8856)\n"
          ]
        }
      ]
    },
    {
      "cell_type": "code",
      "source": [
        "gradDec(multiLinearModel_withInteraction,4,x_norm,y_norm,0.005,2000)"
      ],
      "metadata": {
        "colab": {
          "base_uri": "https://localhost:8080/"
        },
        "id": "_-d3cOw364cH",
        "outputId": "d38c5521-e1f8-4162-a075-91369711be35"
      },
      "execution_count": null,
      "outputs": [
        {
          "output_type": "stream",
          "name": "stdout",
          "text": [
            "epoch: 0 loss= 0.9941251873970032\n",
            "epoch: 200 loss= 0.8097527027130127\n",
            "epoch: 400 loss= 0.8064106106758118\n",
            "epoch: 600 loss= 0.8063488602638245\n",
            "epoch: 800 loss= 0.8063477277755737\n",
            "epoch: 1000 loss= 0.8063476085662842\n",
            "epoch: 1200 loss= 0.8063477277755737\n",
            "epoch: 1400 loss= 0.806347668170929\n",
            "epoch: 1600 loss= 0.806347668170929\n",
            "epoch: 1800 loss= 0.806347668170929\n"
          ]
        },
        {
          "output_type": "execute_result",
          "data": {
            "text/plain": [
              "tensor([4.3676e-01, 6.0622e-02, 2.5009e-03, 4.4096e-05], requires_grad=True)"
            ]
          },
          "metadata": {},
          "execution_count": 37
        }
      ]
    },
    {
      "cell_type": "code",
      "source": [
        "#manhattan distance\n",
        "pred_c = []\n",
        "pred_c_unormalized = []\n",
        "total_dist = 0\n",
        "for i in range(len(x_norm)):\n",
        "  y_pred = params[0].item() * x_norm[i][0] - params[1].item() * x_norm[i][1] + params[2].item() * x_norm[i][0] * x_norm[i][1] - params[3].item()\n",
        "  pred_c.append(y_pred.item())\n",
        "  pred_c_unormalized.append(y_pred.item() * y_std.item() + y_mean.item())\n",
        "  total_dist += abs(y_pred - y_norm[i])\n",
        "print(total_dist / len(x_norm))"
      ],
      "metadata": {
        "colab": {
          "base_uri": "https://localhost:8080/"
        },
        "id": "7fYMlvcP8TK8",
        "outputId": "95ca5dce-d78b-40ad-9aba-09a79201dbf0"
      },
      "execution_count": null,
      "outputs": [
        {
          "output_type": "stream",
          "name": "stdout",
          "text": [
            "tensor(0.7130)\n"
          ]
        }
      ]
    },
    {
      "cell_type": "code",
      "source": [
        "sns.violinplot(x =df[\"quality\"], y = pred_c_unormalized)"
      ],
      "metadata": {
        "colab": {
          "base_uri": "https://localhost:8080/",
          "height": 296
        },
        "id": "bjaiJlsNBtf0",
        "outputId": "44c4cb04-fe7e-4974-896c-72a908a7fdb1"
      },
      "execution_count": null,
      "outputs": [
        {
          "output_type": "execute_result",
          "data": {
            "text/plain": [
              "<AxesSubplot:xlabel='quality'>"
            ]
          },
          "metadata": {},
          "execution_count": 39
        },
        {
          "output_type": "display_data",
          "data": {
            "text/plain": [
              "<Figure size 432x288 with 1 Axes>"
            ],
            "image/png": "[encoded data removed]"
          },
          "metadata": {
            "needs_background": "light"
          }
        }
      ]
    },
    {
      "cell_type": "markdown",
      "source": [
        "# **Part 3: Accuracy**"
      ],
      "metadata": {
        "id": "24HpoJCx4tgE"
      }
    },
    {
      "cell_type": "markdown",
      "source": [
        "The accuracies for the different models were very close together (not significantly different), but if I had to choose, I think the linear model did the best because it had the highest accuracy for the smallest threshold, which I think is important because that means it had more predictions that were very close to the actual value.\n"
      ],
      "metadata": {
        "id": "Do8OWYhHRt91"
      }
    },
    {
      "cell_type": "code",
      "source": [
        "def threshold_accuracy(y_pred, threshold):\n",
        "  correct = 0\n",
        "  for i in range(len(y_norm)):\n",
        "    if abs(y_norm[i] - y_pred[i]) <= threshold:\n",
        "      correct +=1\n",
        "  return correct / len(y_pred)"
      ],
      "metadata": {
        "id": "rBCKKuJBIDC9"
      },
      "execution_count": null,
      "outputs": []
    },
    {
      "cell_type": "code",
      "source": [
        "print(\"Threshold accuracies for Linear Model:\")\n",
        "print(\"Threshold 0.25: \", threshold_accuracy(pred_a, 0.25))\n",
        "print(\"Threshold 0.5: \", threshold_accuracy(pred_a, 0.5))\n",
        "print(\"Threshold 1.0: \", threshold_accuracy(pred_a, 1.0))\n",
        "print(\"Threshold accuracies for MultiLinear Model:\")\n",
        "print(\"Threshold 0.25: \", threshold_accuracy(pred_b, 0.25))\n",
        "print(\"Threshold 0.5: \", threshold_accuracy(pred_b, 0.5))\n",
        "print(\"Threshold 1.0: \", threshold_accuracy(pred_b, 1.0))\n",
        "print(\"Threshold accuracies for NonLinear Model:\")\n",
        "print(\"Threshold 0.25: \", threshold_accuracy(pred_c, 0.25))\n",
        "print(\"Threshold 0.5: \", threshold_accuracy(pred_c, 0.5))\n",
        "print(\"Threshold 1.0: \", threshold_accuracy(pred_c, 1.0))"
      ],
      "metadata": {
        "colab": {
          "base_uri": "https://localhost:8080/"
        },
        "id": "Prnb_sSCQxyG",
        "outputId": "324f1a1c-c7bc-40e1-d028-6e0b71277ce7"
      },
      "execution_count": null,
      "outputs": [
        {
          "output_type": "stream",
          "name": "stdout",
          "text": [
            "Threshold accuracies for Linear Model:\n",
            "Threshold 0.25:  0.18313597386688443\n",
            "Threshold 0.5:  0.407309105757452\n",
            "Threshold 1.0:  0.7895059207839935\n",
            "Threshold accuracies for MultiLinear Model:\n",
            "Threshold 0.25:  0.18272764393630053\n",
            "Threshold 0.5:  0.4169048591261739\n",
            "Threshold 1.0:  0.7862392813393222\n",
            "Threshold accuracies for NonLinear Model:\n",
            "Threshold 0.25:  0.17619436504695793\n",
            "Threshold 0.5:  0.4001633319722336\n",
            "Threshold 1.0:  0.7809309922417313\n"
          ]
        }
      ]
    },
    {
      "cell_type": "markdown",
      "source": [
        "# **Part 4: Cross Validation**"
      ],
      "metadata": {
        "id": "qnDQLdRp4xu9"
      }
    },
    {
      "cell_type": "markdown",
      "source": [
        "Using K-fold cross validation with k = 5, I found that the linear and multilinear model did the best. The linear model did better with lower thresholds, and the multilinear model did better with higher thresholds. Overall, I think the linear model did the best because I think it is more important for our model to do better with a lower threshold.\n",
        "I think there is a significant difference between the models, because for a threshold of 0.25, the linear model had 5% more accuracy than the multilinear model and about 13% more accuracy than the nonlinear model. Furthermore, for a threshold of 1.0, the multilinear model had about 12% more accuracy than the linear model and about 39% more accuracy than the nonlinear model. "
      ],
      "metadata": {
        "id": "VX1vBL2aHPyv"
      }
    },
    {
      "cell_type": "code",
      "source": [
        "def crossvalidation_threshold_accuracy(y_test, y_pred, threshold):\n",
        "  correct = 0\n",
        "  for i in range(len(y_pred)):\n",
        "    if abs(y_test[i] - y_pred[i]) <= threshold:\n",
        "      correct +=1\n",
        "  return correct / len(y_pred)"
      ],
      "metadata": {
        "id": "GsMtXJpCQbn9"
      },
      "execution_count": null,
      "outputs": []
    },
    {
      "cell_type": "code",
      "source": [
        "def linear_model(params, x_test):\n",
        "  pred_a = []\n",
        "  for i in range(len(x_test)):\n",
        "    y_pred = params[0].item() * x_test[i] + params[1].item()\n",
        "    pred_a.append(y_pred)\n",
        "  return pred_a"
      ],
      "metadata": {
        "id": "pY_sR4gKLJAn"
      },
      "execution_count": null,
      "outputs": []
    },
    {
      "cell_type": "code",
      "source": [
        "def multi_linear_model(params, x_test):\n",
        "  pred_b = []\n",
        "  for i in range(len(x_test)):\n",
        "    y_pred = params[0].item() * x_test[i][0] + params[1].item() * x_test[i][1] + params[2].item() * x_test[i][2] + params[3].item()\n",
        "    pred_b.append(y_pred)\n",
        "  return pred_b"
      ],
      "metadata": {
        "id": "bK5nXYsTLSH1"
      },
      "execution_count": null,
      "outputs": []
    },
    {
      "cell_type": "code",
      "source": [
        "def non_linear_model(params, x_test):\n",
        "  pred_c = []\n",
        "  for i in range(len(x_test)):\n",
        "    y_pred = params[0].item() * x_test[i][0] - params[1].item() * x_test[i][1] + params[2].item() * x_test[i][0] * x_test[i][1] - params[3].item()\n",
        "    pred_c.append(y_pred)\n",
        "  return pred_c"
      ],
      "metadata": {
        "id": "7yU1p1cWLdn-"
      },
      "execution_count": null,
      "outputs": []
    },
    {
      "cell_type": "code",
      "source": [
        "#K fold cross validation\n",
        "def k_split(k, x, y):\n",
        "  x_folds = [[]] * k\n",
        "  y_folds = [[]] * k\n",
        "  for i in range(len(x)):\n",
        "    x_folds[i%5].append(x[i])\n",
        "    y_folds[i%5].append(y[i])\n",
        "  return (x_folds, y_folds)"
      ],
      "metadata": {
        "id": "EkzB71vKHLXA"
      },
      "execution_count": null,
      "outputs": []
    },
    {
      "cell_type": "code",
      "source": [
        "def cross_train_linear_model(k):\n",
        "  avg_accuracies = [0] * 3 #0.25, 0.5, 1.0\n",
        "  #normalize data\n",
        "  x = df['alcohol']\n",
        "  y = df['quality']\n",
        "  x_folds, y_folds = k_split(k, x, y)\n",
        "  #loop through folds\n",
        "  for leave_out in range(k):\n",
        "    print(\"Leaving out fold \", leave_out)\n",
        "    #create training and testing\n",
        "    x_train = []\n",
        "    y_train = []\n",
        "    x_test = None\n",
        "    y_test = None\n",
        "    for i in range(k):\n",
        "      if i == leave_out:\n",
        "        x_test = x_folds[leave_out]\n",
        "        y_test = y_folds[leave_out]\n",
        "      else:\n",
        "        x_train.extend(x_folds[i])\n",
        "        y_train.extend(x_folds[i])\n",
        "    x_test = torch.Tensor(x_test)\n",
        "    y_test = torch.Tensor(y_test)\n",
        "    x_train = torch.Tensor(x_train)\n",
        "    y_train = torch.Tensor(y_train)\n",
        "    x_test = (x_test - x_test.mean())/x_test.std()\n",
        "    y_test = (y_test - y_test.mean())/y_test.std()\n",
        "    x_train = (x_train - x_train.mean())/x_train.std()\n",
        "    y_train = (y_train - y_train.mean())/y_train.std()\n",
        "\n",
        "    #create the linear model\n",
        "    params = gradDec(linearModel,2,(x_train),(y_train))\n",
        "    print(params)\n",
        "    predicted_y_test = linear_model(params, x_test)\n",
        "    #compute threshold accuracies\n",
        "    avg_accuracies[0] += crossvalidation_threshold_accuracy(y_test, predicted_y_test, 0.25)\n",
        "    avg_accuracies[1] += crossvalidation_threshold_accuracy(y_test, predicted_y_test, 0.5)\n",
        "    avg_accuracies[2] += crossvalidation_threshold_accuracy(y_test, predicted_y_test, 1.0)\n",
        "    print(\"\\n\")\n",
        "  avg_accuracies[0] /= k\n",
        "  avg_accuracies[1] /= k\n",
        "  avg_accuracies[2] /= k\n",
        "  return avg_accuracies"
      ],
      "metadata": {
        "id": "8ymm7EvQKynm"
      },
      "execution_count": null,
      "outputs": []
    },
    {
      "cell_type": "code",
      "source": [
        "def cross_train_multilinear_model(k):\n",
        "  avg_accuracies = [0] * 3 #0.25, 0.5, 1.0\n",
        "  df = pd.read_csv(\"WhiteWine.txt\")\n",
        "  #normalize data\n",
        "  features=[\"alcohol\",\"sulphates\",\"pH\"]\n",
        "  x = torch.Tensor(df[features].values)\n",
        "  y = torch.Tensor(df[\"quality\"].values)\n",
        "  x_mean = x.mean(dim=0)\n",
        "  x_std = x.std(dim=0)\n",
        "  x_norm = (x-x_mean)/x_std\n",
        "  y_mean = y.mean(dim=0)\n",
        "  y_std = y.std(dim=0)\n",
        "  y_norm = (y-y_mean)/y_std\n",
        "\n",
        "  x_folds, y_folds = k_split(k, x_norm, y_norm)\n",
        "  #loop through folds\n",
        "  for leave_out in range(k):\n",
        "    print(\"Leaving out fold \", leave_out)\n",
        "    #create training and testing\n",
        "    x_train = []\n",
        "    y_train = []\n",
        "    x_test = None\n",
        "    y_test = None\n",
        "    for i in range(k):\n",
        "      if i == leave_out:\n",
        "        x_test = x_folds[leave_out]\n",
        "        y_test = y_folds[leave_out]\n",
        "      else:\n",
        "        x_train.extend(x_folds[i])\n",
        "        y_train.extend(x_folds[i])\n",
        "    #create the linear model\n",
        "    params = gradDec(multiLinearModel,4,x_norm,y_norm,0.001)\n",
        "    predicted_y_test = multi_linear_model(params, x_test)\n",
        "    #compute threshold accuracies\n",
        "    avg_accuracies[0] += crossvalidation_threshold_accuracy(y_test, predicted_y_test, 0.25)\n",
        "    avg_accuracies[1] += crossvalidation_threshold_accuracy(y_test, predicted_y_test, 0.5)\n",
        "    avg_accuracies[2] += crossvalidation_threshold_accuracy(y_test, predicted_y_test, 1.0)\n",
        "    print(\"\\n\")\n",
        "  avg_accuracies[0] /= k\n",
        "  avg_accuracies[1] /= k\n",
        "  avg_accuracies[2] /= k\n",
        "  return avg_accuracies"
      ],
      "metadata": {
        "id": "tNf0wASQSb3d"
      },
      "execution_count": null,
      "outputs": []
    },
    {
      "cell_type": "code",
      "source": [
        "def cross_train_nonlinear_model(k):\n",
        "  avg_accuracies = [0] * 3 #0.25, 0.5, 1.0\n",
        "  #normalize data\n",
        "  df = pd.read_csv(\"WhiteWine.txt\")\n",
        "  features=[\"residual sugar\",\"density\"]\n",
        "  x = torch.Tensor(df[features].values)\n",
        "  y = torch.Tensor(df[\"quality\"].values)\n",
        "  x_mean = x.mean(dim=0)\n",
        "  x_std = x.std(dim=0)\n",
        "  x_norm = (x-x_mean)/x_std\n",
        "  y_mean = y.mean(dim=0)\n",
        "  y_std = y.std(dim=0)\n",
        "  y_norm = (y-y_mean)/y_std\n",
        "\n",
        "  x_folds, y_folds = k_split(k, x_norm, y_norm)\n",
        "  #loop through folds\n",
        "  for leave_out in range(k):\n",
        "    print(\"Leaving out fold \", leave_out)\n",
        "    #create training and testing\n",
        "    x_train = []\n",
        "    y_train = []\n",
        "    x_test = None\n",
        "    y_test = None\n",
        "    for i in range(k):\n",
        "      if i == leave_out:\n",
        "        x_test = x_folds[leave_out]\n",
        "        y_test = y_folds[leave_out]\n",
        "      else:\n",
        "        x_train.extend(x_folds[i])\n",
        "        y_train.extend(x_folds[i])\n",
        "    #create the linear model\n",
        "    params = gradDec(multiLinearModel_withInteraction,4,x_norm,y_norm,0.005,2000)\n",
        "    predicted_y_test = non_linear_model(params, x_test)\n",
        "    #compute threshold accuracies\n",
        "    avg_accuracies[0] += crossvalidation_threshold_accuracy(y_test, predicted_y_test, 0.25)\n",
        "    avg_accuracies[1] += crossvalidation_threshold_accuracy(y_test, predicted_y_test, 0.5)\n",
        "    avg_accuracies[2] += crossvalidation_threshold_accuracy(y_test, predicted_y_test, 1.0)\n",
        "    print(\"\\n\")\n",
        "  avg_accuracies[0] /= k\n",
        "  avg_accuracies[1] /= k\n",
        "  avg_accuracies[2] /= k\n",
        "  return avg_accuracies"
      ],
      "metadata": {
        "id": "TRDgvZVwTX-t"
      },
      "execution_count": null,
      "outputs": []
    },
    {
      "cell_type": "code",
      "source": [
        "k = 5\n",
        "print(\"Running linear model\")\n",
        "linear_accuracies = cross_train_linear_model(k)\n",
        "print(\"Running multilinear model\")\n",
        "multilinear_accuracies = cross_train_multilinear_model(k)\n",
        "print(\"Running nonlinear model\")\n",
        "nonlinear_accuracies = cross_train_nonlinear_model(k)"
      ],
      "metadata": {
        "colab": {
          "base_uri": "https://localhost:8080/"
        },
        "id": "XSdcvAucKudd",
        "outputId": "1b030bd9-83fb-49cd-a36b-c01c62a00394"
      },
      "execution_count": null,
      "outputs": [
        {
          "output_type": "stream",
          "name": "stdout",
          "text": [
            "Running linear model\n",
            "Leaving out fold  0\n",
            "epoch: 0 loss= 0.9629988074302673\n",
            "epoch: 200 loss= 0.43237438797950745\n",
            "epoch: 400 loss= 0.19413088262081146\n",
            "epoch: 600 loss= 0.0871623083949089\n",
            "epoch: 800 loss= 0.03913472592830658\n",
            "epoch: 1000 loss= 0.01757102645933628\n",
            "epoch: 1200 loss= 0.007889192551374435\n",
            "epoch: 1400 loss= 0.0035421322099864483\n",
            "epoch: 1600 loss= 0.001590351457707584\n",
            "epoch: 1800 loss= 0.000714066089130938\n",
            "tensor([9.8211e-01, 6.7047e-04], requires_grad=True)\n",
            "\n",
            "\n",
            "Leaving out fold  1\n",
            "epoch: 0 loss= 0.9975001811981201\n",
            "epoch: 200 loss= 0.44786500930786133\n",
            "epoch: 400 loss= 0.20108568668365479\n",
            "epoch: 600 loss= 0.09028465300798416\n",
            "epoch: 800 loss= 0.04053669050335884\n",
            "epoch: 1000 loss= 0.018200501799583435\n",
            "epoch: 1200 loss= 0.00817175954580307\n",
            "epoch: 1400 loss= 0.0036690346896648407\n",
            "epoch: 1600 loss= 0.0016473325667902827\n",
            "epoch: 1800 loss= 0.0007396346190944314\n",
            "tensor([0.9818, 0.0014], requires_grad=True)\n",
            "\n",
            "\n",
            "Leaving out fold  2\n",
            "epoch: 0 loss= 0.941180944442749\n",
            "epoch: 200 loss= 0.42257851362228394\n",
            "epoch: 400 loss= 0.18973247706890106\n",
            "epoch: 600 loss= 0.08518745750188828\n",
            "epoch: 800 loss= 0.03824808821082115\n",
            "epoch: 1000 loss= 0.017172878608107567\n",
            "epoch: 1200 loss= 0.007710342761129141\n",
            "epoch: 1400 loss= 0.003461869666352868\n",
            "epoch: 1600 loss= 0.0015543169574812055\n",
            "epoch: 1800 loss= 0.0006978690507821739\n",
            "tensor([9.8230e-01, 2.0818e-04], requires_grad=True)\n",
            "\n",
            "\n",
            "Leaving out fold  3\n",
            "epoch: 0 loss= 0.9788254499435425\n",
            "epoch: 200 loss= 0.43948033452033997\n",
            "epoch: 400 loss= 0.1973213255405426\n",
            "epoch: 600 loss= 0.08859486132860184\n",
            "epoch: 800 loss= 0.03977806866168976\n",
            "epoch: 1000 loss= 0.01785990409553051\n",
            "epoch: 1200 loss= 0.008018847554922104\n",
            "epoch: 1400 loss= 0.0036003775894641876\n",
            "epoch: 1600 loss= 0.0016165330307558179\n",
            "epoch: 1800 loss= 0.0007258111727423966\n",
            "tensor([9.8195e-01, 1.6756e-04], requires_grad=True)\n",
            "\n",
            "\n",
            "Leaving out fold  4\n",
            "epoch: 0 loss= 1.0003650188446045\n",
            "epoch: 200 loss= 0.4491512179374695\n",
            "epoch: 400 loss= 0.20166324079036713\n",
            "epoch: 600 loss= 0.09054427593946457\n",
            "epoch: 800 loss= 0.04065326228737831\n",
            "epoch: 1000 loss= 0.018252745270729065\n",
            "epoch: 1200 loss= 0.008195221424102783\n",
            "epoch: 1400 loss= 0.003679515328258276\n",
            "epoch: 1600 loss= 0.0016520395874977112\n",
            "epoch: 1800 loss= 0.0007417466840706766\n",
            "tensor([0.9818, 0.0014], requires_grad=True)\n",
            "\n",
            "\n",
            "Running multilinear model\n",
            "Leaving out fold  0\n",
            "epoch: 0 loss= 0.9374589323997498\n",
            "epoch: 200 loss= 0.8633518218994141\n",
            "epoch: 400 loss= 0.8309169411659241\n",
            "epoch: 600 loss= 0.8166000247001648\n",
            "epoch: 800 loss= 0.8102243542671204\n",
            "epoch: 1000 loss= 0.8073589205741882\n",
            "epoch: 1200 loss= 0.8060587644577026\n",
            "epoch: 1400 loss= 0.8054630756378174\n",
            "epoch: 1600 loss= 0.8051873445510864\n",
            "epoch: 1800 loss= 0.805058479309082\n",
            "\n",
            "\n",
            "Leaving out fold  1\n",
            "epoch: 0 loss= 0.9327490925788879\n",
            "epoch: 200 loss= 0.8609241843223572\n",
            "epoch: 400 loss= 0.829756498336792\n",
            "epoch: 600 loss= 0.8160779476165771\n",
            "epoch: 800 loss= 0.8100032210350037\n",
            "epoch: 1000 loss= 0.8072718381881714\n",
            "epoch: 1200 loss= 0.8060281872749329\n",
            "epoch: 1400 loss= 0.8054545521736145\n",
            "epoch: 1600 loss= 0.8051866292953491\n",
            "epoch: 1800 loss= 0.8050598502159119\n",
            "\n",
            "\n",
            "Leaving out fold  2\n",
            "epoch: 0 loss= 0.9535269737243652\n",
            "epoch: 200 loss= 0.8715183138847351\n",
            "epoch: 400 loss= 0.835040807723999\n",
            "epoch: 600 loss= 0.8186758756637573\n",
            "epoch: 800 loss= 0.8112684488296509\n",
            "epoch: 1000 loss= 0.8078845739364624\n",
            "epoch: 1200 loss= 0.8063239455223083\n",
            "epoch: 1400 loss= 0.8055972456932068\n",
            "epoch: 1600 loss= 0.8052554726600647\n",
            "epoch: 1800 loss= 0.8050932288169861\n",
            "\n",
            "\n",
            "Leaving out fold  3\n",
            "epoch: 0 loss= 0.9564132690429688\n",
            "epoch: 200 loss= 0.8717738389968872\n",
            "epoch: 400 loss= 0.8346283435821533\n",
            "epoch: 600 loss= 0.8182210922241211\n",
            "epoch: 800 loss= 0.8109251856803894\n",
            "epoch: 1000 loss= 0.8076582551002502\n",
            "epoch: 1200 loss= 0.806184709072113\n",
            "epoch: 1400 loss= 0.8055150508880615\n",
            "epoch: 1600 loss= 0.8052083253860474\n",
            "epoch: 1800 loss= 0.8050666451454163\n",
            "\n",
            "\n",
            "Leaving out fold  4\n",
            "epoch: 0 loss= 0.9468808174133301\n",
            "epoch: 200 loss= 0.8680886030197144\n",
            "epoch: 400 loss= 0.833387553691864\n",
            "epoch: 600 loss= 0.8179200887680054\n",
            "epoch: 800 loss= 0.8109395503997803\n",
            "epoch: 1000 loss= 0.8077490925788879\n",
            "epoch: 1200 loss= 0.8062721490859985\n",
            "epoch: 1400 loss= 0.8055796027183533\n",
            "epoch: 1600 loss= 0.8052510619163513\n",
            "epoch: 1800 loss= 0.8050930500030518\n",
            "\n",
            "\n",
            "Running nonlinear model\n",
            "Leaving out fold  0\n",
            "epoch: 0 loss= 1.1302849054336548\n",
            "epoch: 200 loss= 0.877129077911377\n",
            "epoch: 400 loss= 0.846287727355957\n",
            "epoch: 600 loss= 0.8302883505821228\n",
            "epoch: 800 loss= 0.8218910098075867\n",
            "epoch: 1000 loss= 0.8174818754196167\n",
            "epoch: 1200 loss= 0.8151665925979614\n",
            "epoch: 1400 loss= 0.8139510154724121\n",
            "epoch: 1600 loss= 0.8133126497268677\n",
            "epoch: 1800 loss= 0.8129774928092957\n",
            "\n",
            "\n",
            "Leaving out fold  1\n",
            "epoch: 0 loss= 1.0267456769943237\n",
            "epoch: 200 loss= 0.8818206787109375\n",
            "epoch: 400 loss= 0.8487957119941711\n",
            "epoch: 600 loss= 0.8316062688827515\n",
            "epoch: 800 loss= 0.8225831389427185\n",
            "epoch: 1000 loss= 0.817845344543457\n",
            "epoch: 1200 loss= 0.815357506275177\n",
            "epoch: 1400 loss= 0.8140511512756348\n",
            "epoch: 1600 loss= 0.8133652806282043\n",
            "epoch: 1800 loss= 0.8130050897598267\n",
            "\n",
            "\n",
            "Leaving out fold  2\n",
            "epoch: 0 loss= 1.0568275451660156\n",
            "epoch: 200 loss= 0.8885131478309631\n",
            "epoch: 400 loss= 0.8522478938102722\n",
            "epoch: 600 loss= 0.8334176540374756\n",
            "epoch: 800 loss= 0.8235341906547546\n",
            "epoch: 1000 loss= 0.8183445930480957\n",
            "epoch: 1200 loss= 0.815619707107544\n",
            "epoch: 1400 loss= 0.8141888976097107\n",
            "epoch: 1600 loss= 0.8134375810623169\n",
            "epoch: 1800 loss= 0.8130429983139038\n",
            "\n",
            "\n",
            "Leaving out fold  3\n",
            "epoch: 0 loss= 1.1114271879196167\n",
            "epoch: 200 loss= 0.8856172561645508\n",
            "epoch: 400 loss= 0.8507497310638428\n",
            "epoch: 600 loss= 0.83263099193573\n",
            "epoch: 800 loss= 0.823121190071106\n",
            "epoch: 1000 loss= 0.8181277513504028\n",
            "epoch: 1200 loss= 0.815505862236023\n",
            "epoch: 1400 loss= 0.8141290545463562\n",
            "epoch: 1600 loss= 0.8134061098098755\n",
            "epoch: 1800 loss= 0.813026487827301\n",
            "\n",
            "\n",
            "Leaving out fold  4\n",
            "epoch: 0 loss= 1.1710445880889893\n",
            "epoch: 200 loss= 0.8897355794906616\n",
            "epoch: 400 loss= 0.852831244468689\n",
            "epoch: 600 loss= 0.8337217569351196\n",
            "epoch: 800 loss= 0.8236938118934631\n",
            "epoch: 1000 loss= 0.8184285163879395\n",
            "epoch: 1200 loss= 0.815663754940033\n",
            "epoch: 1400 loss= 0.8142119646072388\n",
            "epoch: 1600 loss= 0.8134496212005615\n",
            "epoch: 1800 loss= 0.8130493760108948\n",
            "\n",
            "\n"
          ]
        }
      ]
    },
    {
      "cell_type": "code",
      "source": [
        "print(\"Threshold accuracies for Linear Model:\")\n",
        "print(\"Threshold 0.25: \", linear_accuracies[0])\n",
        "print(\"Threshold 0.5: \", linear_accuracies[1])\n",
        "print(\"Threshold 1.0: \", linear_accuracies[2])\n",
        "print(\"\\nThreshold accuracies for MultiLinear Model:\")\n",
        "print(\"Threshold 0.25: \", multilinear_accuracies[0])\n",
        "print(\"Threshold 0.5: \", multilinear_accuracies[1])\n",
        "print(\"Threshold 1.0: \", multilinear_accuracies[2])\n",
        "print(\"\\nThreshold accuracies for NonLinear Model:\")\n",
        "print(\"Threshold 0.25: \", nonlinear_accuracies[0])\n",
        "print(\"Threshold 0.5: \", nonlinear_accuracies[1])\n",
        "print(\"Threshold 1.0: \", nonlinear_accuracies[2])"
      ],
      "metadata": {
        "id": "KHsBHODXRs5t",
        "colab": {
          "base_uri": "https://localhost:8080/"
        },
        "outputId": "c9226240-1eea-4204-98f1-b228b4b1b599"
      },
      "execution_count": null,
      "outputs": [
        {
          "output_type": "stream",
          "name": "stdout",
          "text": [
            "Threshold accuracies for Linear Model:\n",
            "Threshold 0.25:  0.23732135565536955\n",
            "Threshold 0.5:  0.4109840751327073\n",
            "Threshold 1.0:  0.6668027766435279\n",
            "\n",
            "Threshold accuracies for MultiLinear Model:\n",
            "Threshold 0.25:  0.18276847692935894\n",
            "Threshold 0.5:  0.4170681910984075\n",
            "Threshold 1.0:  0.7863617803184975\n",
            "\n",
            "Threshold accuracies for NonLinear Model:\n",
            "Threshold 0.25:  0.10347080440996326\n",
            "Threshold 0.5:  0.20930992241731322\n",
            "Threshold 1.0:  0.3968150265414455\n"
          ]
        }
      ]
    },
    {
      "cell_type": "markdown",
      "source": [
        "# **Extra Credit**"
      ],
      "metadata": {
        "id": "C5pYnI3Q42v8"
      }
    },
    {
      "cell_type": "markdown",
      "source": [
        "I optimized my hyperparameter k by running KNN Regression on values of 2-29 for K and choosing the one with the highest accuracy which was k = 2. K=2 had an accuracy of 91% which is better than the accuracy of the original author's models."
      ],
      "metadata": {
        "id": "rGZ8iQ03QjpY"
      }
    },
    {
      "cell_type": "code",
      "source": [
        "from sklearn.neighbors import KNeighborsRegressor"
      ],
      "metadata": {
        "id": "Z_1F0Rq-KuAn"
      },
      "execution_count": null,
      "outputs": []
    },
    {
      "cell_type": "code",
      "source": [
        "def ec_threshold_accuracy(y_pred, y_actual, threshold):\n",
        "  correct = 0\n",
        "  for i in range(len(y_norm)):\n",
        "    if abs(y_actual[i] - y_pred[i]) <= threshold:\n",
        "      correct +=1\n",
        "  return correct / len(y_pred)"
      ],
      "metadata": {
        "id": "gynQPrcay6cY"
      },
      "execution_count": null,
      "outputs": []
    },
    {
      "cell_type": "code",
      "source": [
        "features=[\"alcohol\",\"sulphates\",\"pH\"]\n",
        "x = df[features]\n",
        "y = df['quality']\n",
        "x = (x - x.mean())/x.std()\n",
        "y = (y - y.mean())/y.std()\n",
        "for i in range(2, 30):\n",
        "  print(\"k: \", i)\n",
        "  neigh = KNeighborsRegressor(n_neighbors=i)\n",
        "  neigh.fit(x, y)\n",
        "  pred = neigh.predict(x)\n",
        "  print(ec_threshold_accuracy(pred, y, 1.0))\n"
      ],
      "metadata": {
        "colab": {
          "base_uri": "https://localhost:8080/"
        },
        "id": "RmRM2QsoxyaW",
        "outputId": "e2939cd3-8bd3-4452-a9a3-1af413a43825"
      },
      "execution_count": null,
      "outputs": [
        {
          "output_type": "stream",
          "name": "stdout",
          "text": [
            "k:  2\n",
            "0.9101674152715394\n",
            "k:  3\n",
            "0.9034299714169048\n",
            "k:  4\n",
            "0.8746427113107391\n",
            "k:  5\n",
            "0.8670886075949367\n",
            "k:  6\n",
            "0.8638219681502655\n",
            "k:  7\n",
            "0.856267864434463\n",
            "k:  8\n",
            "0.8525928950592079\n",
            "k:  9\n",
            "0.8091057574520212\n",
            "k:  10\n",
            "0.8168640261331156\n",
            "k:  11\n",
            "0.819314005716619\n",
            "k:  12\n",
            "0.8178848509595753\n",
            "k:  13\n",
            "0.8182931808901592\n",
            "k:  14\n",
            "0.8203348305430788\n",
            "k:  15\n",
            "0.8178848509595753\n",
            "k:  16\n",
            "0.8172723560636995\n",
            "k:  17\n",
            "0.8182931808901592\n",
            "k:  18\n",
            "0.7982850142915475\n",
            "k:  19\n",
            "0.8052266231114741\n",
            "k:  20\n",
            "0.8070641077991016\n",
            "k:  21\n",
            "0.8131890567578604\n",
            "k:  22\n",
            "0.8113515720702328\n",
            "k:  23\n",
            "0.814822376480196\n",
            "k:  24\n",
            "0.8174765210289914\n",
            "k:  25\n",
            "0.8203348305430788\n",
            "k:  26\n",
            "0.8211514904042466\n",
            "k:  27\n",
            "0.8076766026949775\n",
            "k:  28\n",
            "0.8097182523478971\n",
            "k:  29\n",
            "0.8084932625561454\n"
          ]
        }
      ]
    },
    {
      "cell_type": "code",
      "source": [
        "  neigh = KNeighborsRegressor(n_neighbors=2)\n",
        "  neigh.fit(x, y)\n",
        "  pred = neigh.predict(x)\n",
        "  print(ec_threshold_accuracy(pred, y, 1.0))"
      ],
      "metadata": {
        "colab": {
          "base_uri": "https://localhost:8080/"
        },
        "id": "U_VYhCY4zxdD",
        "outputId": "7b375e71-3038-4b26-f43b-714fa5cbe821"
      },
      "execution_count": null,
      "outputs": [
        {
          "output_type": "stream",
          "name": "stdout",
          "text": [
            "0.9101674152715394\n"
          ]
        }
      ]
    }
  ]
}